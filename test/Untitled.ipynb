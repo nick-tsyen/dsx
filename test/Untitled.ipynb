{
 "cells": [
  {
   "cell_type": "code",
   "execution_count": 1,
   "id": "7bcea7ed-704a-4723-8259-cc04bee4543d",
   "metadata": {},
   "outputs": [
    {
     "name": "stdout",
     "output_type": "stream",
     "text": [
      "Package loaded in Notebook Mode\n",
      "Successfully imported ds_utils as Package\n"
     ]
    }
   ],
   "source": [
    "from dsx.ds_utils import *"
   ]
  },
  {
   "cell_type": "code",
   "execution_count": 2,
   "id": "c4ecd3d3-59f3-49ef-bd18-b98ce5fe166a",
   "metadata": {},
   "outputs": [],
   "source": [
    "df = sns.load_dataset('iris')"
   ]
  },
  {
   "cell_type": "code",
   "execution_count": 3,
   "id": "14b0027c-1c5a-4a3a-9b98-be92be9ec2c7",
   "metadata": {},
   "outputs": [],
   "source": [
    "%matplotlib inline\n",
    "%config InlineBackend.figure_format = 'retina'\n",
    "#sns.set_style('fivethirtyeight')\n",
    "plt.rc('figure', figsize=(16,9))\n",
    "sns.set_context(context={'figure.figsize': (16,9)})\n",
    "plt.style.use('fivethirtyeight')"
   ]
  },
  {
   "cell_type": "code",
   "execution_count": 4,
   "id": "fefd90d7-728c-4e77-a5cb-c5feea31ac9d",
   "metadata": {},
   "outputs": [
    {
     "name": "stdout",
     "output_type": "stream",
     "text": [
      "<class 'pandas.core.frame.DataFrame'>\n",
      "RangeIndex: 150 entries, 0 to 149\n",
      "Data columns (total 5 columns):\n",
      " #   Column        Non-Null Count  Dtype  \n",
      "---  ------        --------------  -----  \n",
      " 0   sepal_length  150 non-null    float64\n",
      " 1   sepal_width   150 non-null    float64\n",
      " 2   petal_length  150 non-null    float64\n",
      " 3   petal_width   150 non-null    float64\n",
      " 4   species       150 non-null    object \n",
      "dtypes: float64(4), object(1)\n",
      "memory usage: 6.0+ KB\n"
     ]
    }
   ],
   "source": [
    "df.info()"
   ]
  },
  {
   "cell_type": "code",
   "execution_count": 5,
   "id": "c9e84d31-9251-485e-b517-da0042128aee",
   "metadata": {},
   "outputs": [
    {
     "data": {
      "application/vnd.dataresource+json": {
       "data": [
        {
         "ColIndex": 0,
         "Col_Name": "sepal_length",
         "Data_Type": "float64",
         "Missing_Count": 0,
         "Missing_Percentage": 0,
         "Prcent_Unique_Values": 0.2333333333,
         "Unique_Values": 35,
         "index": 0
        },
        {
         "ColIndex": 1,
         "Col_Name": "sepal_width",
         "Data_Type": "float64",
         "Missing_Count": 0,
         "Missing_Percentage": 0,
         "Prcent_Unique_Values": 0.1533333333,
         "Unique_Values": 23,
         "index": 1
        },
        {
         "ColIndex": 2,
         "Col_Name": "petal_length",
         "Data_Type": "float64",
         "Missing_Count": 0,
         "Missing_Percentage": 0,
         "Prcent_Unique_Values": 0.2866666667,
         "Unique_Values": 43,
         "index": 2
        },
        {
         "ColIndex": 3,
         "Col_Name": "petal_width",
         "Data_Type": "float64",
         "Missing_Count": 0,
         "Missing_Percentage": 0,
         "Prcent_Unique_Values": 0.1466666667,
         "Unique_Values": 22,
         "index": 3
        },
        {
         "ColIndex": 4,
         "Col_Name": "species",
         "Data_Type": "object",
         "Missing_Count": 0,
         "Missing_Percentage": 0,
         "Prcent_Unique_Values": 0.02,
         "Unique_Values": 3,
         "index": 4
        }
       ],
       "schema": {
        "fields": [
         {
          "name": "index",
          "type": "integer"
         },
         {
          "name": "ColIndex",
          "type": "integer"
         },
         {
          "name": "Col_Name",
          "type": "string"
         },
         {
          "name": "Missing_Count",
          "type": "integer"
         },
         {
          "name": "Missing_Percentage",
          "type": "number"
         },
         {
          "name": "Unique_Values",
          "type": "integer"
         },
         {
          "name": "Prcent_Unique_Values",
          "type": "number"
         },
         {
          "name": "Data_Type",
          "type": "string"
         }
        ],
        "pandas_version": "0.20.0",
        "primaryKey": [
         "index"
        ]
       }
      },
      "text/html": [
       "<div>\n",
       "<style scoped>\n",
       "    .dataframe tbody tr th:only-of-type {\n",
       "        vertical-align: middle;\n",
       "    }\n",
       "\n",
       "    .dataframe tbody tr th {\n",
       "        vertical-align: top;\n",
       "    }\n",
       "\n",
       "    .dataframe thead th {\n",
       "        text-align: right;\n",
       "    }\n",
       "</style>\n",
       "<table border=\"1\" class=\"dataframe\">\n",
       "  <thead>\n",
       "    <tr style=\"text-align: right;\">\n",
       "      <th></th>\n",
       "      <th>ColIndex</th>\n",
       "      <th>Col_Name</th>\n",
       "      <th>Missing_Count</th>\n",
       "      <th>Missing_Percentage</th>\n",
       "      <th>Unique_Values</th>\n",
       "      <th>Prcent_Unique_Values</th>\n",
       "      <th>Data_Type</th>\n",
       "    </tr>\n",
       "  </thead>\n",
       "  <tbody>\n",
       "    <tr>\n",
       "      <th>0</th>\n",
       "      <td>0</td>\n",
       "      <td>sepal_length</td>\n",
       "      <td>0</td>\n",
       "      <td>0.0</td>\n",
       "      <td>35</td>\n",
       "      <td>0.233333</td>\n",
       "      <td>float64</td>\n",
       "    </tr>\n",
       "    <tr>\n",
       "      <th>1</th>\n",
       "      <td>1</td>\n",
       "      <td>sepal_width</td>\n",
       "      <td>0</td>\n",
       "      <td>0.0</td>\n",
       "      <td>23</td>\n",
       "      <td>0.153333</td>\n",
       "      <td>float64</td>\n",
       "    </tr>\n",
       "    <tr>\n",
       "      <th>2</th>\n",
       "      <td>2</td>\n",
       "      <td>petal_length</td>\n",
       "      <td>0</td>\n",
       "      <td>0.0</td>\n",
       "      <td>43</td>\n",
       "      <td>0.286667</td>\n",
       "      <td>float64</td>\n",
       "    </tr>\n",
       "    <tr>\n",
       "      <th>3</th>\n",
       "      <td>3</td>\n",
       "      <td>petal_width</td>\n",
       "      <td>0</td>\n",
       "      <td>0.0</td>\n",
       "      <td>22</td>\n",
       "      <td>0.146667</td>\n",
       "      <td>float64</td>\n",
       "    </tr>\n",
       "    <tr>\n",
       "      <th>4</th>\n",
       "      <td>4</td>\n",
       "      <td>species</td>\n",
       "      <td>0</td>\n",
       "      <td>0.0</td>\n",
       "      <td>3</td>\n",
       "      <td>0.020000</td>\n",
       "      <td>object</td>\n",
       "    </tr>\n",
       "  </tbody>\n",
       "</table>\n",
       "</div>"
      ],
      "text/plain": [
       "   ColIndex      Col_Name  Missing_Count  Missing_Percentage  Unique_Values  \\\n",
       "0         0  sepal_length              0                 0.0             35   \n",
       "1         1   sepal_width              0                 0.0             23   \n",
       "2         2  petal_length              0                 0.0             43   \n",
       "3         3   petal_width              0                 0.0             22   \n",
       "4         4       species              0                 0.0              3   \n",
       "\n",
       "   Prcent_Unique_Values Data_Type  \n",
       "0              0.233333   float64  \n",
       "1              0.153333   float64  \n",
       "2              0.286667   float64  \n",
       "3              0.146667   float64  \n",
       "4              0.020000    object  "
      ]
     },
     "execution_count": 5,
     "metadata": {},
     "output_type": "execute_result"
    }
   ],
   "source": [
    "df.ds.info()"
   ]
  },
  {
   "cell_type": "code",
   "execution_count": 6,
   "id": "9b93bbf3-4b21-4ac7-acda-0babf01d74a2",
   "metadata": {},
   "outputs": [
    {
     "data": {
      "text/plain": [
       "'/home/jovyan/drive/test'"
      ]
     },
     "execution_count": 6,
     "metadata": {},
     "output_type": "execute_result"
    }
   ],
   "source": [
    "pwd"
   ]
  },
  {
   "cell_type": "code",
   "execution_count": 7,
   "id": "5a8d48b4-69da-4e9d-921f-c07a8087607d",
   "metadata": {},
   "outputs": [
    {
     "name": "stdout",
     "output_type": "stream",
     "text": [
      "/home/jovyan/drive\n"
     ]
    }
   ],
   "source": [
    "cd .."
   ]
  },
  {
   "cell_type": "code",
   "execution_count": 18,
   "id": "837ae937-a862-4cce-b6a3-56ece1082461",
   "metadata": {},
   "outputs": [
    {
     "name": "stdout",
     "output_type": "stream",
     "text": [
      "total 44\n",
      "drwxrwxrwx 1 jovyan nick   512 Sep  7 03:06 \u001b[0m\u001b[34;42mbuild\u001b[0m/\n",
      "-rwxrwxrwx 1 jovyan nick    29 Sep  7 01:29 \u001b[01;32m_config.yml\u001b[0m*\n",
      "drwxrwxrwx 1 jovyan nick   512 Sep  7 03:06 \u001b[34;42mdist\u001b[0m/\n",
      "drwxrwxrwx 1 jovyan nick   512 Sep  7 01:29 \u001b[34;42mdoc_assets\u001b[0m/\n",
      "drwxrwxrwx 1 jovyan nick   512 Sep  7 01:29 \u001b[34;42mdocs\u001b[0m/\n",
      "drwxrwxrwx 1 jovyan nick   512 Sep  7 01:29 \u001b[34;42mds_utils.egg-info\u001b[0m/\n",
      "drwxrwxrwx 1 jovyan nick   512 Sep  7 03:11 \u001b[34;42mdsx\u001b[0m/\n",
      "drwxrwxrwx 1 jovyan nick   512 Sep  7 03:15 \u001b[34;42mdsx.egg-info\u001b[0m/\n",
      "-rwxrwxrwx 1 jovyan nick 35821 Sep  7 01:29 \u001b[01;32mLICENSE.txt\u001b[0m*\n",
      "-rwxrwxrwx 1 jovyan nick  3780 Sep  7 01:29 \u001b[01;32mREADME.md\u001b[0m*\n",
      "-rwxrwxrwx 1 jovyan nick    40 Sep  7 01:29 \u001b[01;32msetup.cfg\u001b[0m*\n",
      "-rwxrwxrwx 1 jovyan nick  1419 Sep  7 03:02 \u001b[01;32msetup.py\u001b[0m*\n",
      "drwxrwxrwx 1 jovyan nick   512 Sep  7 03:18 \u001b[34;42m_temp\u001b[0m/\n",
      "drwxrwxrwx 1 jovyan nick   512 Sep  7 03:18 \u001b[34;42mtest\u001b[0m/\n"
     ]
    }
   ],
   "source": [
    "ls -l"
   ]
  },
  {
   "cell_type": "code",
   "execution_count": 14,
   "id": "7ca9ebcf-2247-47ef-ae2b-39a61151ff91",
   "metadata": {},
   "outputs": [],
   "source": [
    "from IPython.display import IFrame"
   ]
  },
  {
   "cell_type": "code",
   "execution_count": 30,
   "id": "fef660be-e945-4e5c-842d-c60b8aba8de0",
   "metadata": {},
   "outputs": [],
   "source": [
    "dircheck =  os.path.join(\"_temp\", \"LabView\" + '.html')"
   ]
  },
  {
   "cell_type": "code",
   "execution_count": 33,
   "id": "5429b796-ac2f-49ed-b469-a7627b8921a6",
   "metadata": {},
   "outputs": [
    {
     "data": {
      "text/plain": [
       "'_temp/LabView.html'"
      ]
     },
     "execution_count": 33,
     "metadata": {},
     "output_type": "execute_result"
    },
    {
     "data": {
      "text/plain": [
       "'_temp/LabView_tips.html'"
      ]
     },
     "execution_count": 33,
     "metadata": {},
     "output_type": "execute_result"
    }
   ],
   "source": [
    "dircheck\n",
    "copied"
   ]
  },
  {
   "cell_type": "code",
   "execution_count": 31,
   "id": "c074f1df-d21f-47ba-8da6-ebc20dc27781",
   "metadata": {},
   "outputs": [],
   "source": [
    "copied = '_temp/LabView_tips.html'"
   ]
  },
  {
   "cell_type": "code",
   "execution_count": 39,
   "id": "6d45d98c-5600-4736-9fb8-b0f810c1e1e7",
   "metadata": {},
   "outputs": [
    {
     "data": {
      "text/plain": [
       "'/home/jovyan/drive'"
      ]
     },
     "execution_count": 39,
     "metadata": {},
     "output_type": "execute_result"
    }
   ],
   "source": [
    "pwd"
   ]
  },
  {
   "cell_type": "code",
   "execution_count": 42,
   "id": "0d60074a-d741-4f57-89ad-b810064b8f74",
   "metadata": {},
   "outputs": [
    {
     "data": {
      "text/html": [
       "\n",
       "        <iframe\n",
       "            width=\"100%\"\n",
       "            height=\"1200\"\n",
       "            src=\"_temp/LabView_tips.html\"\n",
       "            frameborder=\"0\"\n",
       "            allowfullscreen\n",
       "        ></iframe>\n",
       "        "
      ],
      "text/plain": [
       "<IPython.lib.display.IFrame at 0x7fea30807640>"
      ]
     },
     "execution_count": 42,
     "metadata": {},
     "output_type": "execute_result"
    }
   ],
   "source": [
    "IFrame(src='_temp/LabView_tips.html', width=\"100%\", height=\"10\")"
   ]
  },
  {
   "cell_type": "code",
   "execution_count": 35,
   "id": "83872a4c-b28b-45d4-964f-265460fc4022",
   "metadata": {},
   "outputs": [
    {
     "data": {
      "text/plain": [
       "True"
      ]
     },
     "execution_count": 35,
     "metadata": {},
     "output_type": "execute_result"
    }
   ],
   "source": [
    "os.path.isfile(copied)"
   ]
  },
  {
   "cell_type": "code",
   "execution_count": 34,
   "id": "3f45095b-1bd9-438f-b964-ab87bb7a0526",
   "metadata": {},
   "outputs": [
    {
     "data": {
      "text/html": [
       "\n",
       "        <iframe\n",
       "            width=\"100%\"\n",
       "            height=\"1200\"\n",
       "            src=\"_temp/LabView_tips.html\"\n",
       "            frameborder=\"0\"\n",
       "            allowfullscreen\n",
       "        ></iframe>\n",
       "        "
      ],
      "text/plain": [
       "<IPython.lib.display.IFrame at 0x7fea3146a610>"
      ]
     },
     "execution_count": 34,
     "metadata": {},
     "output_type": "execute_result"
    }
   ],
   "source": [
    "IFrame('_temp/LabView_tips.html', \"100%\", \"1200\")"
   ]
  },
  {
   "cell_type": "code",
   "execution_count": 16,
   "id": "90e2cdfa-9a83-4f13-81ab-5b2a4d5d16e5",
   "metadata": {},
   "outputs": [
    {
     "data": {
      "text/html": [
       "\n",
       "        <iframe\n",
       "            width=\"100%\"\n",
       "            height=\"1200\"\n",
       "            src=\"_temp/LabView.html\"\n",
       "            frameborder=\"0\"\n",
       "            allowfullscreen\n",
       "        ></iframe>\n",
       "        "
      ],
      "text/plain": [
       "<IPython.lib.display.IFrame at 0x7fea313b2a90>"
      ]
     },
     "execution_count": 16,
     "metadata": {},
     "output_type": "execute_result"
    }
   ],
   "source": [
    "IFrame(os.path.join(\"_temp\", \"LabView\" + '.html'), \"100%\", \"1200\")"
   ]
  },
  {
   "cell_type": "code",
   "execution_count": null,
   "id": "3b7b3816-afe3-4a55-95fa-175e4eda6848",
   "metadata": {},
   "outputs": [],
   "source": []
  }
 ],
 "metadata": {
  "kernelspec": {
   "display_name": "Python 3 (ipykernel)",
   "language": "python",
   "name": "python3"
  },
  "language_info": {
   "codemirror_mode": {
    "name": "ipython",
    "version": 3
   },
   "file_extension": ".py",
   "mimetype": "text/x-python",
   "name": "python",
   "nbconvert_exporter": "python",
   "pygments_lexer": "ipython3",
   "version": "3.8.6"
  }
 },
 "nbformat": 4,
 "nbformat_minor": 5
}
